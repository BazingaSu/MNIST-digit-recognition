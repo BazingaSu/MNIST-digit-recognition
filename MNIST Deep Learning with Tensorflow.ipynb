{
 "cells": [
  {
   "cell_type": "code",
   "execution_count": 1,
   "metadata": {
    "collapsed": true
   },
   "outputs": [],
   "source": [
    "import pandas as pd\n",
    "import matplotlib.pyplot as plt\n",
    "from matplotlib.pyplot import imshow\n",
    "import numpy as np\n",
    "import tensorflow as tf\n",
    "import math"
   ]
  },
  {
   "cell_type": "code",
   "execution_count": 3,
   "metadata": {
    "collapsed": false
   },
   "outputs": [],
   "source": [
    "### read data \n",
    "train = pd.read_csv(\"~/Documents/Data/MNIST/mnist_train.csv\")\n",
    "test = pd.read_csv(\"~/Documents/Data/MNIST/mnist_test.csv\")"
   ]
  },
  {
   "cell_type": "code",
   "execution_count": 4,
   "metadata": {
    "collapsed": false
   },
   "outputs": [
    {
     "name": "stdout",
     "output_type": "stream",
     "text": [
      "training set shape: (42000, 785)\n",
      "test set shape: (28000, 784)\n"
     ]
    }
   ],
   "source": [
    "#### data size\n",
    "print(\"training set shape: {}\".format(train.shape))\n",
    "print(\"test set shape: {}\".format(test.shape))\n",
    "\n",
    "#### image size: 28*28*1 = 784 , training set has one additional column of labels"
   ]
  },
  {
   "cell_type": "code",
   "execution_count": 5,
   "metadata": {
    "collapsed": false
   },
   "outputs": [
    {
     "name": "stderr",
     "output_type": "stream",
     "text": [
      "/Applications/anaconda/lib/python3.6/site-packages/ipykernel/__main__.py:3: FutureWarning: reshape is deprecated and will raise in a subsequent release. Please use .values.reshape(...) instead\n",
      "  app.launch_new_instance()\n"
     ]
    },
    {
     "name": "stdout",
     "output_type": "stream",
     "text": [
      "this is a number  0\n"
     ]
    },
    {
     "data": {
      "image/png": "[encoded data removed]",
      "text/plain": [
       "<matplotlib.figure.Figure at 0x11f4c9710>"
      ]
     },
     "metadata": {},
     "output_type": "display_data"
    }
   ],
   "source": [
    "#### print one picture to see\n",
    "\n",
    "image = train.iloc[1,1:].reshape((28,28))\n",
    "print(\"this is a number \", train.iloc[1,0])\n",
    "plt.imshow(image,cmap=plt.get_cmap('gray_r'))\n",
    "plt.show()\n"
   ]
  },
  {
   "cell_type": "code",
   "execution_count": 7,
   "metadata": {
    "collapsed": false
   },
   "outputs": [],
   "source": [
    "## define train_x, train_y, test_y and normalization\n",
    "\n",
    "train_x = train.iloc[:,1:]\n",
    "train_y = train.iloc[:,0]\n",
    "train_x = train_x / 255\n",
    "test_x = test / 255"
   ]
  },
  {
   "cell_type": "code",
   "execution_count": 8,
   "metadata": {
    "collapsed": true
   },
   "outputs": [],
   "source": [
    "### convet dataframe to array\n",
    "\n",
    "train_x_array = np.asarray(train_x).reshape((42000,28,28,1)).astype(\"float32\")\n",
    "test_x_array = np.asarray(test_x).reshape((test_x.shape[0],28,28,1)).astype('float32')"
   ]
  },
  {
   "cell_type": "code",
   "execution_count": 9,
   "metadata": {
    "collapsed": false
   },
   "outputs": [
    {
     "name": "stdout",
     "output_type": "stream",
     "text": [
      "(42000, 10)\n"
     ]
    }
   ],
   "source": [
    "### convert labels to onehot\n",
    "\n",
    "def convert_one_hot(label):\n",
    "    num_class = len(label.unique())\n",
    "    zeros = np.zeros((label.shape[0],num_class))\n",
    "    print(zeros.shape)\n",
    "    for i in range(label.shape[0]):\n",
    "        zeros[i,label.iloc[i]] =1\n",
    "    return zeros\n",
    "\n",
    "train_y_onehot = convert_one_hot(train_y)"
   ]
  },
  {
   "cell_type": "code",
   "execution_count": 10,
   "metadata": {
    "collapsed": true
   },
   "outputs": [],
   "source": [
    "##### components of CNN model\n",
    "\n",
    "def create_placeholder(n_h,n_w,n_c0,n_y):\n",
    "    \n",
    "    X = tf.placeholder(tf.float32,shape=(None,n_h,n_w,n_c0))\n",
    "    Y = tf.placeholder(tf.float32,shape=(None,n_y))\n",
    "    \n",
    "    return X,Y\n",
    "\n",
    "\n",
    "def initialize_parameters():\n",
    "    \n",
    "    w1 = tf.get_variable(name=\"w1\",shape=[3,3,1,5],initializer=tf.contrib.layers.xavier_initializer(seed=0))\n",
    "    w2 = tf.get_variable(name=\"w2\",shape=[3,3,5,10],initializer=tf.contrib.layers.xavier_initializer(seed=0))\n",
    "    \n",
    "    parameters = {\"W1\":w1,\n",
    "                 \"W2\":w2}\n",
    "    return parameters\n",
    "\n",
    "def forward_propagation(X,parameters):\n",
    "    \n",
    "    W1 = parameters[\"W1\"]\n",
    "    W2 = parameters[\"W2\"]\n",
    "    \n",
    "    Z1 = tf.nn.conv2d(X,W1,strides=[1,1,1,1],padding='SAME')\n",
    "    A1 = tf.nn.relu(Z1)\n",
    "    P1 = tf.nn.max_pool(A1,ksize=[1,2,2,1],strides=[1,2,2,1],padding=\"SAME\")\n",
    "    \n",
    "    Z2 = tf.nn.conv2d(P1,W2,strides=[1,1,1,1],padding=\"SAME\")\n",
    "    A2 = tf.nn.relu(Z2)\n",
    "    P2 = tf.nn.max_pool(A2,ksize=[1,2,2,1],strides=[1,2,2,1],padding='SAME')\n",
    "    \n",
    "    P2 = tf.contrib.layers.flatten(P2)\n",
    "    \n",
    "    Z3 = tf.contrib.layers.fully_connected(P2,10,activation_fn=None)\n",
    "    \n",
    "    return Z3\n",
    "\n",
    "def compute_cost(Z3,Y):\n",
    "    \n",
    "    cost = tf.reduce_mean(tf.nn.softmax_cross_entropy_with_logits(logits=Z3,labels=Y))\n",
    "    \n",
    "    return cost"
   ]
  },
  {
   "cell_type": "code",
   "execution_count": 11,
   "metadata": {
    "collapsed": true
   },
   "outputs": [],
   "source": [
    "#### build a random minibatch function to help train the model\n",
    "\n",
    "def random_minibatches(X,Y,minibatch_size,seed):\n",
    "    \n",
    "    np.random.seed(seed)\n",
    "    m = X.shape[0]\n",
    "    minibatches = []\n",
    "    \n",
    "    ### randomly shuffle X and Y\n",
    "    permutation = list(np.random.permutation(m))\n",
    "    shuffled_X = X[permutation]\n",
    "    shuffled_Y = Y[permutation]\n",
    "    \n",
    "    num_of_minibatches = math.floor(m / minibatch_size)\n",
    "    \n",
    "    for k in range(num_of_minibatches):\n",
    "        minibatch_X = shuffled_X[k*minibatch_size:(k+1)*minibatch_size]\n",
    "        minibatch_Y = shuffled_Y[k*minibatch_size:(k+1)*minibatch_size]\n",
    "        minibatch = (minibatch_X,minibatch_Y)\n",
    "        minibatches.append(minibatch)\n",
    "    ### just in case last minibatch < minibatch size    \n",
    "    if m % minibatch_size != 0:\n",
    "        minibatch_X = shuffled_X[num_of_minibatches*minibatch_size:]\n",
    "        minibatch_Y = shuffled_Y[num_of_minibatches*minibatch_size:]\n",
    "        minibatch = (minibatch_X,minibatch_Y)\n",
    "        minibatches.appened(minibatch)\n",
    "        \n",
    "    return minibatches\n",
    "        "
   ]
  },
  {
   "cell_type": "code",
   "execution_count": 16,
   "metadata": {
    "collapsed": true
   },
   "outputs": [],
   "source": [
    "#### Build the CNN model with 2 hidden layers, filter_size: 3*3, strides:1, padding: \"SAME\"\n",
    "\n",
    "def CNN_model(train_x,train_y,test_x,learning_rate,num_epochs ,minibatch_size ):\n",
    "    \n",
    "    seed = 2\n",
    "    \n",
    "    m = train_x.shape[0]\n",
    "    n_h = train_x.shape[1]\n",
    "    n_w = train_x.shape[2]\n",
    "    n_c0 = train_x.shape[3]\n",
    "    n_y = train_y.shape[1]\n",
    "    costs = []\n",
    "    \n",
    "    X,Y = create_placeholder(n_h=n_h,n_w = n_w, n_c0 = n_c0,n_y=n_y)\n",
    "    \n",
    "    parameters = initialize_parameters()\n",
    "    \n",
    "    Z3 = forward_propagation(X=X,parameters=parameters)\n",
    "    \n",
    "    cost = compute_cost(Z3,Y)\n",
    "    \n",
    "    optimizer = tf.train.AdamOptimizer(learning_rate = learning_rate,name='Adam').minimize(cost)\n",
    "    \n",
    "    init = tf.global_variables_initializer()\n",
    "    \n",
    "    with tf.Session() as sess:\n",
    "        sess.run(init)\n",
    "        \n",
    "        for epoch in range(num_epochs):\n",
    "            minibatch_cost = 0\n",
    "            num_minibatches = int(m/minibatch_size)\n",
    "            seed +=1\n",
    "            minibatches = random_minibatches(train_x,train_y,minibatch_size,seed=1)\n",
    "            \n",
    "            for minibatch in minibatches:\n",
    "                minibatch_x, minibatch_y = minibatch\n",
    "                __, single_minibatch_cost = sess.run([optimizer,cost],feed_dict={X:minibatch_x,Y:minibatch_y})\n",
    "                \n",
    "                minibatch_cost += single_minibatch_cost / num_minibatches\n",
    "                \n",
    "            costs.append(minibatch_cost)\n",
    "            \n",
    "            if epoch % 5 == 0:\n",
    "                print(\"cost after {} epoches is {}\".format(epoch+5,minibatch_cost))\n",
    "                \n",
    "        plt.plot(np.squeeze(costs))\n",
    "        plt.title(\"cost under learningrate {}\".format(learning_rate))\n",
    "        plt.show()\n",
    "        \n",
    "        prediction = tf.argmax(Z3,1)\n",
    "        correct_pred = tf.equal(prediction,tf.argmax(train_y,1))\n",
    "        \n",
    "        accuracy = tf.reduce_mean(tf.cast(correct_pred,\"float\"))\n",
    "        \n",
    "        train_accuracy = accuracy.eval({X:train_x,Y:train_y})\n",
    "        \n",
    "        print(\"Train accuracy is {}\".format(train_accuracy))\n",
    "        \n",
    "        prediction_test = sess.run(Z3,feed_dict={X:test_x})\n",
    "        \n",
    "        \n",
    "        return train_accuracy,parameters,prediction_test\n",
    "        "
   ]
  },
  {
   "cell_type": "code",
   "execution_count": 17,
   "metadata": {
    "collapsed": false
   },
   "outputs": [
    {
     "name": "stdout",
     "output_type": "stream",
     "text": [
      "cost after 5 epoches is 0.5127373531758787\n",
      "cost after 10 epoches is 0.08058171095140286\n",
      "cost after 15 epoches is 0.05591723409667609\n",
      "cost after 20 epoches is 0.04472549195936877\n",
      "cost after 25 epoches is 0.03736767962493471\n",
      "cost after 30 epoches is 0.03179449710622428\n",
      "cost after 35 epoches is 0.027143164494365928\n",
      "cost after 40 epoches is 0.023205307251890173\n",
      "cost after 45 epoches is 0.019768581904820177\n",
      "cost after 50 epoches is 0.01686093696462921\n",
      "cost after 55 epoches is 0.015079857806827928\n",
      "cost after 60 epoches is 0.013895185907203999\n",
      "cost after 65 epoches is 0.012424930624976703\n",
      "cost after 70 epoches is 0.011260944345862294\n",
      "cost after 75 epoches is 0.009867733362043513\n",
      "cost after 80 epoches is 0.008811976068704095\n",
      "cost after 85 epoches is 0.00839133301324637\n",
      "cost after 90 epoches is 0.008395456321259645\n",
      "cost after 95 epoches is 0.005459954199624007\n",
      "cost after 100 epoches is 0.00471581479811994\n"
     ]
    },
    {
     "data": {
      "image/png": "[encoded data removed]",
      "text/plain": [
       "<matplotlib.figure.Figure at 0x130c752b0>"
      ]
     },
     "metadata": {},
     "output_type": "display_data"
    },
    {
     "name": "stdout",
     "output_type": "stream",
     "text": [
      "Train accuracy is 0.9955238103866577\n"
     ]
    }
   ],
   "source": [
    "#### Training \n",
    "\n",
    "tf.reset_default_graph()\n",
    "learning_rate = 0.001\n",
    "num_epochs = 100\n",
    "minibatch_size = 84\n",
    "__,parameters,prediction_test = CNN_model(train_x_array,train_y_onehot,test_x = test_x_array,learning_rate = learning_rate,num_epochs = num_epochs,minibatch_size=minibatch_size)"
   ]
  },
  {
   "cell_type": "code",
   "execution_count": 18,
   "metadata": {
    "collapsed": false
   },
   "outputs": [
    {
     "name": "stdout",
     "output_type": "stream",
     "text": [
      "cost after 5 epoches is 0.40607751816883664\n",
      "cost after 10 epoches is 0.06853347952454368\n",
      "cost after 15 epoches is 0.04632280462820203\n",
      "cost after 20 epoches is 0.03546010727880632\n",
      "cost after 25 epoches is 0.02775753160688328\n",
      "cost after 30 epoches is 0.021746906952674186\n",
      "cost after 35 epoches is 0.017428906519283374\n",
      "cost after 40 epoches is 0.014366341338925838\n",
      "cost after 45 epoches is 0.012757809139171065\n",
      "cost after 50 epoches is 0.011340676336447706\n",
      "cost after 55 epoches is 0.011318166034059794\n",
      "cost after 60 epoches is 0.007757737313580812\n",
      "cost after 65 epoches is 0.007102672169678862\n",
      "cost after 70 epoches is 0.006995585313971399\n",
      "cost after 75 epoches is 0.007304335530583958\n",
      "cost after 80 epoches is 0.0056889485789946735\n",
      "cost after 85 epoches is 0.0060219500430559614\n",
      "cost after 90 epoches is 0.004485797386147745\n",
      "cost after 95 epoches is 0.0067674195649570995\n",
      "cost after 100 epoches is 0.006418267373627104\n"
     ]
    },
    {
     "data": {
      "image/png": "[encoded data removed]",
      "text/plain": [
       "<matplotlib.figure.Figure at 0x12b4fc9b0>"
      ]
     },
     "metadata": {},
     "output_type": "display_data"
    },
    {
     "name": "stdout",
     "output_type": "stream",
     "text": [
      "Train accuracy is 0.9959999918937683\n"
     ]
    }
   ],
   "source": [
    "#### change minibatch_size to 42 \n",
    "tf.reset_default_graph()\n",
    "learning_rate = 0.001\n",
    "num_epochs = 100\n",
    "minibatch_size = 42\n",
    "__,parameters,prediction_test = CNN_model(train_x_array,train_y_onehot,test_x = test_x_array,learning_rate = learning_rate,num_epochs = num_epochs,minibatch_size=minibatch_size)\n"
   ]
  },
  {
   "cell_type": "code",
   "execution_count": 21,
   "metadata": {
    "collapsed": false
   },
   "outputs": [
    {
     "name": "stdout",
     "output_type": "stream",
     "text": [
      "select 19159th image from training\n",
      "predicted as 1\n"
     ]
    },
    {
     "name": "stderr",
     "output_type": "stream",
     "text": [
      "/Applications/anaconda/lib/python3.6/site-packages/ipykernel/__main__.py:8: FutureWarning: reshape is deprecated and will raise in a subsequent release. Please use .values.reshape(...) instead\n"
     ]
    },
    {
     "data": {
      "image/png": "[encoded data removed]",
      "text/plain": [
       "<matplotlib.figure.Figure at 0x12db82780>"
      ]
     },
     "metadata": {},
     "output_type": "display_data"
    },
    {
     "name": "stdout",
     "output_type": "stream",
     "text": [
      "select 11023th image from training\n",
      "predicted as 6\n"
     ]
    },
    {
     "data": {
      "image/png": "[encoded data removed]",
      "text/plain": [
       "<matplotlib.figure.Figure at 0x12d661668>"
      ]
     },
     "metadata": {},
     "output_type": "display_data"
    },
    {
     "name": "stdout",
     "output_type": "stream",
     "text": [
      "select 9303th image from training\n",
      "predicted as 7\n"
     ]
    },
    {
     "data": {
      "image/png": "[encoded data removed]",
      "text/plain": [
       "<matplotlib.figure.Figure at 0x12dca3c18>"
      ]
     },
     "metadata": {},
     "output_type": "display_data"
    },
    {
     "name": "stdout",
     "output_type": "stream",
     "text": [
      "select 15713th image from training\n",
      "predicted as 0\n"
     ]
    },
    {
     "data": {
      "image/png": "[encoded data removed]",
      "text/plain": [
       "<matplotlib.figure.Figure at 0x12ddc19b0>"
      ]
     },
     "metadata": {},
     "output_type": "display_data"
    },
    {
     "name": "stdout",
     "output_type": "stream",
     "text": [
      "select 26429th image from training\n",
      "predicted as 9\n"
     ]
    },
    {
     "data": {
      "image/png": "[encoded data removed]",
      "text/plain": [
       "<matplotlib.figure.Figure at 0x12dc7cf60>"
      ]
     },
     "metadata": {},
     "output_type": "display_data"
    }
   ],
   "source": [
    "### randomly select 5 images from test set \n",
    "\n",
    "check_list = np.random.randint(0,28000, size=5)\n",
    "prediction_test = np.argmax(prediction_test,axis=1)\n",
    "for i in check_list:\n",
    "    print(\"select {}th image from training\".format(i))\n",
    "    print(\"predicted as {}\".format(prediction_test[i]))\n",
    "    image = test.iloc[i].reshape((28,28))\n",
    "    plt.imshow(image,cmap=plt.get_cmap('gray_r'))\n",
    "    plt.show()"
   ]
  },
  {
   "cell_type": "code",
   "execution_count": null,
   "metadata": {
    "collapsed": true
   },
   "outputs": [],
   "source": []
  }
 ],
 "metadata": {
  "kernelspec": {
   "display_name": "Python 3",
   "language": "python",
   "name": "python3"
  },
  "language_info": {
   "codemirror_mode": {
    "name": "ipython",
    "version": 3
   },
   "file_extension": ".py",
   "mimetype": "text/x-python",
   "name": "python",
   "nbconvert_exporter": "python",
   "pygments_lexer": "ipython3",
   "version": "3.6.0"
  }
 },
 "nbformat": 4,
 "nbformat_minor": 2
}
